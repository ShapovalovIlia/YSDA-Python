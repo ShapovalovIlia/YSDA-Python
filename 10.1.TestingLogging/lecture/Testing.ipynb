{
 "cells": [
  {
   "attachments": {},
   "cell_type": "markdown",
   "metadata": {},
   "source": [
    "# Тестирование и python\n",
    "\n",
    "В этой лекции мы познакомимся тестированием на `python`, реализовав небольшую кату по TDD (test-driven developement).\n",
    "\n",
    "## TDD и каты\n",
    "\n",
    "TDD — test-driven developement или разработка через тестирование.\n",
    "\n",
    "**Три правила TDD**:\n",
    "\n",
    " - Продакшн-код можно писать только для починки падающего теста.\n",
    " - В тесте нужно писать ровно столько кода, сколько необходимо, чтобы он упал. Ошибки компиляции считаются падениями теста.\n",
    " - В продакшн можно написать ровно столько кода, сколько требуется для починки одного падающего теста.\n",
    "\n",
    "\n",
    "Получается следйющий пайплайн: пишем падающий тест, пишем код, чтобы тест не падал, рефакторим код так, чтобы тесты не падали. Повторяем до сходимости.\n",
    "\n",
    "Есть пара книжек по теме:\n",
    "\n",
    "1. [Test Driven Development: By Example 1st Edition](https://www.eecs.yorku.ca/course_archive/2003-04/W/3311/sectionM/case_studies/money/KentBeck_TDD_byexample.pdf)\n",
    "2. [On Growing Object Oriented Software, Guided by Tests](https://www.amazon.com/Growing-Object-Oriented-Software-Guided-Tests/dp/0321503627)\n",
    "\n",
    "К прочтению рекомендуется вторая, т.к. она более приближена к разработческим реалиям.\n",
    "\n",
    "### Каты\n",
    "\n",
    "Каты — упражнения по программированию, помогающие отточить навыки путем многократного повторнения. Концепция взята из японских боевых искусств. Подробнее про них можно почитать в книжке [The Pragmatic Programmer](https://pragprog.com/titles/tpp20/the-pragmatic-programmer-20th-anniversary-edition/)\n",
    "\n",
    "\n",
    "\n",
    "**Ката Greeter**\n",
    "\n",
    "Эту кату надо выполнять строго по пунктам, не заглядывая вперёд.\n",
    "\n",
    "- Создайте класс `Greeter`, у которого есть метод `greet` принимающий на вход имя и возвращающий \"Hello <имя>\"."
   ]
  },
  {
   "cell_type": "markdown",
   "metadata": {},
   "source": [
    "## 1. Первый тест\n",
    "\n",
    "Для автоматизированного тестирования написано много фреймворков на разных языках. Короткий список для python:\n",
    "\n",
    "* [unittest](https://docs.python.org/3/library/unittest.html)\n",
    "* [nose2](https://docs.nose2.io/en/latest/)\n",
    "* [pytest](https://docs.pytest.org/en/latest/)\n",
    "\n",
    "В рамках лекции мы остановимся на `pytest`."
   ]
  },
  {
   "cell_type": "code",
   "execution_count": 8,
   "metadata": {},
   "outputs": [
    {
     "ename": "ModuleNotFoundError",
     "evalue": "No module named 'ipytest'",
     "output_type": "error",
     "traceback": [
      "\u001b[0;31m---------------------------------------------------------------------------\u001b[0m",
      "\u001b[0;31mModuleNotFoundError\u001b[0m                       Traceback (most recent call last)",
      "Cell \u001b[0;32mIn[8], line 3\u001b[0m\n\u001b[1;32m      1\u001b[0m \u001b[38;5;66;03m# Настраиваем ноутбук\u001b[39;00m\n\u001b[1;32m      2\u001b[0m \u001b[38;5;28;01mimport\u001b[39;00m \u001b[38;5;21;01mpytest\u001b[39;00m\n\u001b[0;32m----> 3\u001b[0m \u001b[38;5;28;01mimport\u001b[39;00m \u001b[38;5;21;01mipytest\u001b[39;00m\n\u001b[1;32m      4\u001b[0m ipytest\u001b[38;5;241m.\u001b[39mautoconfig()\n",
      "\u001b[0;31mModuleNotFoundError\u001b[0m: No module named 'ipytest'"
     ]
    }
   ],
   "source": [
    "# Настраиваем ноутбук\n",
    "import pytest\n",
    "import ipytest\n",
    "ipytest.autoconfig()"
   ]
  },
  {
   "cell_type": "markdown",
   "metadata": {},
   "source": [
    "#### Как pytest находит тесты\n",
    "\n",
    "1. Рекурсивно находит все python-файлы в текущей директории\n",
    "2. Оставляет только файлы вида `test_*.py` и `*_test.py`\n",
    "3. В этих файлах:\n",
    "    1. Находит все функции с префиксом `test`\n",
    "    2. Находит все методы с префиксом `test` внутри классов с префиксом `Test`. У классов не должно быть метода `__init__`\n",
    "  \n",
    "Поведение можно модифицировать. [Подробнее в документации](https://docs.pytest.org/en/stable/goodpractices.html#test-discovery).\n",
    "\n",
    "Напишем минимальный тест:"
   ]
  },
  {
   "cell_type": "code",
   "execution_count": 6,
   "metadata": {},
   "outputs": [
    {
     "name": "stderr",
     "output_type": "stream",
     "text": [
      "UsageError: Cell magic `%%ipytest` not found.\n"
     ]
    }
   ],
   "source": [
    "%%ipytest\n",
    "\n",
    "def test_greeter():\n",
    "    Greeter()"
   ]
  },
  {
   "cell_type": "markdown",
   "metadata": {},
   "source": [
    "`pytest` выводит отчет, в котором можно посмотреть сколько у нас всего тестов, какие из них упали и по какой причине. \n",
    "\n",
    "Теперь сделаем так, чтобы тест проходил:"
   ]
  },
  {
   "cell_type": "code",
   "execution_count": null,
   "metadata": {},
   "outputs": [],
   "source": [
    "class Greeter:\n",
    "    pass"
   ]
  },
  {
   "cell_type": "code",
   "execution_count": null,
   "metadata": {},
   "outputs": [],
   "source": [
    "%%ipytest\n",
    "\n",
    "def test_greeter():\n",
    "    Greeter()"
   ]
  },
  {
   "cell_type": "markdown",
   "metadata": {},
   "source": [
    "Еще одна итерация TDD:"
   ]
  },
  {
   "cell_type": "code",
   "execution_count": null,
   "metadata": {},
   "outputs": [],
   "source": [
    "%%ipytest\n",
    "\n",
    "def test_greeter():\n",
    "    Greeter().greet(\"Mike\")"
   ]
  },
  {
   "cell_type": "code",
   "execution_count": null,
   "metadata": {},
   "outputs": [],
   "source": [
    "class Greeter:\n",
    "    def greet(self, name):\n",
    "        return \"\""
   ]
  },
  {
   "cell_type": "code",
   "execution_count": null,
   "metadata": {},
   "outputs": [],
   "source": [
    "%%ipytest\n",
    "\n",
    "def test_greeter():\n",
    "    Greeter().greet(\"Mike\")"
   ]
  },
  {
   "cell_type": "markdown",
   "metadata": {},
   "source": [
    "Теперь наконец-то напишем нормальный тест, воспользовавшись основной фишкой `Pytest`: `assert`. `Pytest` находит все вызовы `assert` в коде тестов, а затем переписывает этот код так, чтобы в случае падения пользователь мог получить удобный дифф и трейсбек.\n",
    "\n",
    "[Демки разных ассертов](https://docs.pytest.org/en/stable/example/reportingdemo.html#tbreportdemo)."
   ]
  },
  {
   "cell_type": "code",
   "execution_count": null,
   "metadata": {},
   "outputs": [],
   "source": [
    "%%ipytest\n",
    "\n",
    "def test_greeter():\n",
    "    assert Greeter().greet(\"Mike\") == \"Hello Mike\""
   ]
  },
  {
   "cell_type": "markdown",
   "metadata": {},
   "source": [
    "Починим тест:"
   ]
  },
  {
   "cell_type": "code",
   "execution_count": null,
   "metadata": {},
   "outputs": [],
   "source": [
    "class Greeter:\n",
    "    def greet(self, name):\n",
    "        return \"Hello Mike\""
   ]
  },
  {
   "cell_type": "code",
   "execution_count": null,
   "metadata": {},
   "outputs": [],
   "source": [
    "%%ipytest\n",
    "\n",
    "def test_greeter():\n",
    "    assert Greeter().greet(\"Mike\") == \"Hello Mike\""
   ]
  },
  {
   "cell_type": "markdown",
   "metadata": {},
   "source": [
    "## 2. Параметризация"
   ]
  },
  {
   "cell_type": "markdown",
   "metadata": {},
   "source": [
    "Наша реализация представляет собой немного не то, что мы хотели. Стоит добавить больше разных тестов.\n",
    "Чтобы не копировать один и тот же тест, можно воспользоваться параметризацией:"
   ]
  },
  {
   "cell_type": "code",
   "execution_count": null,
   "metadata": {},
   "outputs": [],
   "source": [
    "%%ipytest\n",
    "test_cases = [(\"Mike\", \"Hello Mike\"), (\"John\", \"Hello John\"), (\"Greg\", \"Hello Greg\")]\n",
    "\n",
    "@pytest.mark.parametrize(\"name, greeting\", test_cases)\n",
    "def test_greeter(name, greeting):\n",
    "    assert Greeter().greet(name) == greeting"
   ]
  },
  {
   "cell_type": "markdown",
   "metadata": {},
   "source": [
    "Видим отчеты пайтеста во всей красе. Починим тесты:"
   ]
  },
  {
   "cell_type": "code",
   "execution_count": null,
   "metadata": {},
   "outputs": [],
   "source": [
    "class Greeter:\n",
    "    def greet(self, name):\n",
    "        return \"Hello \" + name"
   ]
  },
  {
   "cell_type": "code",
   "execution_count": null,
   "metadata": {},
   "outputs": [],
   "source": [
    "%%ipytest\n",
    "test_cases = [(\"Mike\", \"Hello Mike\"), (\"John\", \"Hello John\"), (\"Greg\", \"Hello Greg\")]\n",
    "\n",
    "@pytest.mark.parametrize(\"name, greeting\", test_cases)\n",
    "def test_greeter(name, greeting):\n",
    "    assert Greeter().greet(name) == greeting"
   ]
  },
  {
   "cell_type": "markdown",
   "metadata": {},
   "source": [
    "Перейдем к следующему пункту нашего задания:\n",
    "\n",
    "- Метод `greet` должен убирать лишние пробелы в начале и в конце имени.\n",
    "\n",
    "Опять же, напишем тест:"
   ]
  },
  {
   "cell_type": "code",
   "execution_count": null,
   "metadata": {},
   "outputs": [],
   "source": [
    "%%ipytest\n",
    "\n",
    "def test_spaces():\n",
    "    greeting = Greeter().greet(\" Mike\")\n",
    "    assert not greeting.startswith(\" \")"
   ]
  },
  {
   "cell_type": "markdown",
   "metadata": {},
   "source": [
    "Обратим внимание, что тест проходит и возникает соблазн продолжить работу. Однако если посмотреть на тест внимательно, можно увидеть в нем ошибку.\n",
    "\n",
    "\n",
    "Чтобы не наступать на такие грабли, существует **правило** — только что написанный тест должен падать, при чём именно из-за того поведения, которое этот тест должен был покрыть.\n",
    "\n",
    "\n",
    "Вы можете писать тесты на уже существующий код — в таком случае они могут не падать, т.к. код уже работает как надо. Тогда есть два варианта:\n",
    "* Сделать в продовом коде баг чтобы тест упал\n",
    "* Обратить проверяемое условие в тесте\n",
    "\n",
    "Поправим наш тест:"
   ]
  },
  {
   "cell_type": "code",
   "execution_count": null,
   "metadata": {},
   "outputs": [],
   "source": [
    "%%ipytest\n",
    "\n",
    "def test_spaces():\n",
    "    greeted_name = Greeter().greet(\" Mike\").split(\" \", 1)[1]\n",
    "    assert not greeted_name.startswith(\" \")"
   ]
  },
  {
   "cell_type": "markdown",
   "metadata": {},
   "source": [
    "Починим тест"
   ]
  },
  {
   "cell_type": "code",
   "execution_count": null,
   "metadata": {},
   "outputs": [],
   "source": [
    "class Greeter:\n",
    "    def greet(self, name):\n",
    "        if name.startswith(\" \"):\n",
    "            name = name[1:] \n",
    "        return \"Hello \" + name"
   ]
  },
  {
   "cell_type": "code",
   "execution_count": null,
   "metadata": {},
   "outputs": [],
   "source": [
    "%%ipytest\n",
    "\n",
    "def test_spaces():\n",
    "    greeted_name = Greeter().greet(\" Mike\").split(\" \", 1)[1]\n",
    "    assert not greeted_name.startswith(\" \")"
   ]
  },
  {
   "cell_type": "markdown",
   "metadata": {},
   "source": [
    "Перечитаем наше задание:\n",
    "* Метод greet должен убирать лишние пробелы в начале и **в конце имени**\n",
    "\n",
    "Видимо, нам нужно расширить тест:"
   ]
  },
  {
   "cell_type": "code",
   "execution_count": null,
   "metadata": {},
   "outputs": [],
   "source": [
    "%%ipytest\n",
    "\n",
    "def test_spaces():\n",
    "    greeted_name = Greeter().greet(\" Mike \").split(\" \", 1)[1]\n",
    "    assert not greeted_name.startswith(\" \") and not greeted_name.endswith(\" \")"
   ]
  },
  {
   "cell_type": "markdown",
   "metadata": {},
   "source": [
    "Починим тест:"
   ]
  },
  {
   "cell_type": "code",
   "execution_count": null,
   "metadata": {},
   "outputs": [],
   "source": [
    "class Greeter:\n",
    "    def greet(self, name):\n",
    "        if name.startswith(\" \"):\n",
    "            name = name[1:]\n",
    "        if name.endswith(\" \"):\n",
    "            name = name[:-1]\n",
    "        return \"Hello \" + name"
   ]
  },
  {
   "cell_type": "code",
   "execution_count": null,
   "metadata": {},
   "outputs": [],
   "source": [
    "%%ipytest\n",
    "\n",
    "def test_spaces():\n",
    "    greeted_name = Greeter().greet(\" Mike \").split(\" \", 1)[1]\n",
    "    assert not greeted_name.startswith(\" \") and not greeted_name.endswith(\" \")"
   ]
  },
  {
   "cell_type": "markdown",
   "metadata": {},
   "source": [
    "Наш тест все еще недостаточно хорош. Хороший набор тестов должен покрывать разные граничные условия и заходить во все ветки исполнения кода. Параметризуем наш тест так, чтобы покрыть как можно ветвей исполнения кода:"
   ]
  },
  {
   "cell_type": "code",
   "execution_count": null,
   "metadata": {},
   "outputs": [],
   "source": [
    "%%ipytest\n",
    "\n",
    "@pytest.mark.parametrize(\"name\", [\"Mike\", \" Mike\", \"Mike \", \" Mike \", \"  Mike\", \"  Mike  \"])\n",
    "def test_spaces(name):\n",
    "    greeted_name = Greeter().greet(name).split(\" \", 1)[1]\n",
    "    assert not greeted_name.startswith(\" \") and not greeted_name.endswith(\" \")"
   ]
  },
  {
   "cell_type": "markdown",
   "metadata": {},
   "source": [
    "Можно давать имена отдельным наборам параметров — тогда будет удобнее читать вывод пайтеста"
   ]
  },
  {
   "cell_type": "code",
   "execution_count": null,
   "metadata": {},
   "outputs": [],
   "source": [
    "%%ipytest\n",
    "\n",
    "@pytest.mark.parametrize(\"name\", [\"Mike\", \" Mike\", \"Mike \", \" Mike \", \"  Mike\", \"  Mike  \"],\n",
    "                         ids=[\"no spaces\", \"left space\", \"right space\", \n",
    "                              \"two-side space\", \"double space\", \"two-sided double space\"])\n",
    "def test_spaces(name):\n",
    "    greeted_name = Greeter().greet(name).split(\" \", 1)[1]\n",
    "    assert not greeted_name.startswith(\" \") and not greeted_name.endswith(\" \")"
   ]
  },
  {
   "cell_type": "markdown",
   "metadata": {},
   "source": [
    "Починим тест:"
   ]
  },
  {
   "cell_type": "code",
   "execution_count": null,
   "metadata": {},
   "outputs": [],
   "source": [
    "class Greeter:\n",
    "    def greet(self, name):\n",
    "        while name.startswith(\" \"):\n",
    "            name = name[1:]\n",
    "        while name.endswith(\" \"):\n",
    "            name = name[:-1]\n",
    "        return \"Hello \" + name"
   ]
  },
  {
   "cell_type": "code",
   "execution_count": null,
   "metadata": {},
   "outputs": [],
   "source": [
    "%%ipytest\n",
    "\n",
    "@pytest.mark.parametrize(\"name\", [\"Mike\", \" Mike\", \"Mike \", \" Mike \", \"  Mike\", \"  Mike  \"],\n",
    "                         ids=[\"no spaces\", \"left space\", \"right space\", \n",
    "                              \"two-side space\", \"double space\", \"two-sided double space\"])\n",
    "def test_spaces(name):\n",
    "    greeted_name = Greeter().greet(name).split(\" \", 1)[1]\n",
    "    assert not greeted_name.startswith(\" \") and not greeted_name.endswith(\" \")"
   ]
  },
  {
   "cell_type": "markdown",
   "metadata": {},
   "source": [
    "Код кажется слишком многословным! Но при наличии тестов можно безбоязненно его порефакторить:"
   ]
  },
  {
   "cell_type": "code",
   "execution_count": null,
   "metadata": {},
   "outputs": [],
   "source": [
    "class Greeter:\n",
    "    def greet(self, name):\n",
    "        return \"Hello \" + name.strip()"
   ]
  },
  {
   "cell_type": "code",
   "execution_count": null,
   "metadata": {},
   "outputs": [],
   "source": [
    "%%ipytest\n",
    "\n",
    "\n",
    "@pytest.mark.parametrize(\"name, greeting\", [(\"Mike\", \"Hello Mike\"), (\"John\", \"Hello John\"), (\"Greg\", \"Hello Greg\")])\n",
    "def test_greeter(name, greeting):\n",
    "    assert Greeter().greet(name) == greeting\n",
    "\n",
    "\n",
    "@pytest.mark.parametrize(\"name\", [\"Mike\", \" Mike\", \"Mike \", \" Mike \", \"  Mike\", \"  Mike  \"],\n",
    "                         ids=[\"no spaces\", \"left space\", \"right space\", \n",
    "                              \"two-side space\", \"double space\", \"two-sided double space\"])\n",
    "def test_spaces(name):\n",
    "    greeted_name = Greeter().greet(name).split(\" \", 1)[1]\n",
    "    assert not greeted_name.startswith(\" \") and not greeted_name.endswith(\" \")"
   ]
  },
  {
   "cell_type": "markdown",
   "metadata": {},
   "source": [
    "## 3. Рефакторинг тестов и фикстуры"
   ]
  },
  {
   "cell_type": "markdown",
   "metadata": {},
   "source": [
    "Сами тесты тоже надо рефакторить. У нас есть две проблемы.\n",
    "\n",
    "Во-первых, имена тестов не очень информативны. Если упадет тест `test_greater`, будет не совсем понятно, что именно тестировалось и что надо чинить. В целом имена тестам надо давать как можно более подробные — тесты вызываются автоматически, автоматике длина имени безразлична, а вот человеку, читающему выхлоп пайтеста, лучше предоставить как можно больше информации.\n",
    "\n",
    "[Статья на тему](https://enterprisecraftsmanship.com/posts/you-naming-tests-wrong).\n",
    "\n",
    "\n",
    "Переименуем наши тесты:"
   ]
  },
  {
   "cell_type": "code",
   "execution_count": null,
   "metadata": {},
   "outputs": [],
   "source": [
    "%%ipytest\n",
    "\n",
    "\n",
    "@pytest.mark.parametrize(\"name\", [\"Mike\", \"John\", \"Greg\"])\n",
    "def test_greet_returns_name_with_greeting(name):\n",
    "    assert Greeter().greet(name) == \"Hello \" + name\n",
    "\n",
    "\n",
    "@pytest.mark.parametrize(\"name\", [\"Mike\", \" Mike\", \"Mike \", \" Mike \", \"  Mike\", \"  Mike  \"],\n",
    "                         ids=[\"no spaces\", \"left space\", \"right space\", \n",
    "                              \"two-side space\", \"double space\", \"two-sided double space\"])\n",
    "def test_greet_removes_leading_and_trailing_spaces_from_name(name):\n",
    "    greeted_name = Greeter().greet(name).split(\" \", 1)[1]\n",
    "    assert not greeted_name.startswith(\" \") and not greeted_name.endswith(\" \")"
   ]
  },
  {
   "cell_type": "markdown",
   "metadata": {},
   "source": [
    "Вторая проблема — в обоих тестах мы создаем `greeter`. Это приводит к дублированию кода. Кроме того, на практике вместо `greeter` у нас может быть какой-нибудь тяжелый объект типа базы даных, который надо каждый раз инициализировать и чистить. Решить эти проблемы нам поможет механизм фикстур:"
   ]
  },
  {
   "cell_type": "code",
   "execution_count": 4,
   "metadata": {},
   "outputs": [
    {
     "name": "stderr",
     "output_type": "stream",
     "text": [
      "UsageError: Cell magic `%%ipytest` not found.\n"
     ]
    }
   ],
   "source": [
    "%%ipytest\n",
    "\n",
    "@pytest.fixture(scope=\"module\")\n",
    "def greeter():\n",
    "    yield Greeter()\n",
    "\n",
    "@pytest.mark.parametrize(\"name\", [\"Mike\", \"John\", \"Greg\"])\n",
    "def test_greet_returns_name_with_greeting(greeter, name):\n",
    "    assert greeter.greet(name) == \"Hello \" + name\n",
    "\n",
    "\n",
    "@pytest.mark.parametrize(\"name\", [\"Mike\", \" Mike\", \"Mike \", \" Mike \", \"  Mike\", \"  Mike  \"],\n",
    "                         ids=[\"no spaces\", \"left space\", \"right space\", \n",
    "                              \"two-side space\", \"double space\", \"two-sided double space\"])\n",
    "def test_greet_removes_leading_and_trailing_spaces_from_name(greeter, name):\n",
    "    greeted_name = greeter.greet(name).split(\" \", 1)[1]\n",
    "    assert not greeted_name.startswith(\" \") and not greeted_name.endswith(\" \")"
   ]
  },
  {
   "cell_type": "markdown",
   "metadata": {},
   "source": [
    "Фикстуры так же могут прибираться за создаваемым объектом в конце теста и иметь разный скоуп, например, создваться на каждый тест, модуль или тред, запускающий тесты. [Подробнее в документации](https://docs.pytest.org/en/stable/fixture.html).\n",
    "\n",
    "Для БД фикстура может выглядеть примерно так:"
   ]
  },
  {
   "cell_type": "code",
   "execution_count": 9,
   "metadata": {},
   "outputs": [
    {
     "name": "stderr",
     "output_type": "stream",
     "text": [
      "UsageError: Cell magic `%%ipytest` not found.\n"
     ]
    }
   ],
   "source": [
    "%%ipytest -s\n",
    "\n",
    "class DBConnection:\n",
    "    pass\n",
    "\n",
    "class TestDB:\n",
    "    def init_db(self):\n",
    "        print(\"init db\")\n",
    "        \n",
    "    def get_connection(self):\n",
    "        return DBConnection()\n",
    "\n",
    "    def shutdown(self):\n",
    "        print(\"close db\")\n",
    "\n",
    "\n",
    "@pytest.fixture(scope=\"module\")\n",
    "def db_connection():\n",
    "    db = TestDB()\n",
    "    db.init_db()\n",
    "    try:\n",
    "        yield db.get_connection()\n",
    "    finally:\n",
    "        db.shutdown()\n",
    "    \n",
    "def test_db_1(db_connection):\n",
    "    assert db_connection\n",
    "    \n",
    "def test_db_2(db_connection):\n",
    "    assert db_connection"
   ]
  },
  {
   "cell_type": "markdown",
   "metadata": {},
   "source": [
    "Так же в `pytest` есть разные встроенные фикстуры. [Список лежит здесь](https://docs.pytest.org/en/stable/fixture.html). Наиболее интересные:\n",
    "* `monkeypatch` — временно можифицирует методы классов, модулей и т.д.\n",
    "* `testdir` — создает верменную директорию для каждого теста, которую потом чистит\n",
    "\n"
   ]
  },
  {
   "cell_type": "markdown",
   "metadata": {},
   "source": [
    "## 4. Тестирование исключений, сравнение флотов, манкипатчинг\n",
    "\n",
    "Следующий пункт нашей каты:\n",
    "- Метод `greet` должен возвращать ошибку если имя - пустая строка (или строка с пробелами)\n",
    "\n",
    "Для тестирования исключений есть специальная функциональность:"
   ]
  },
  {
   "cell_type": "code",
   "execution_count": null,
   "metadata": {},
   "outputs": [],
   "source": [
    "%%ipytest\n",
    "\n",
    "@pytest.fixture(scope=\"module\")\n",
    "def greeter():\n",
    "    yield Greeter()\n",
    "\n",
    "def test_greet_raises_value_error_on_empty_string(greeter):\n",
    "    with pytest.raises(ValueError):\n",
    "        greeter.greet(\"\")"
   ]
  },
  {
   "cell_type": "markdown",
   "metadata": {},
   "source": [
    "По тексту отчета видим, что тест ожидал исключения, но его не было. Починим тест:"
   ]
  },
  {
   "cell_type": "code",
   "execution_count": null,
   "metadata": {},
   "outputs": [],
   "source": [
    "class Greeter:\n",
    "    def greet(self, name):\n",
    "        name = name.strip()\n",
    "        if not name:\n",
    "            raise ValueError(\"Empty name!\")\n",
    "        return \"Hello \" + name"
   ]
  },
  {
   "cell_type": "code",
   "execution_count": null,
   "metadata": {},
   "outputs": [],
   "source": [
    "%%ipytest\n",
    "\n",
    "@pytest.fixture(scope=\"module\")\n",
    "def greeter():\n",
    "    yield Greeter()\n",
    "\n",
    "def test_greet_raises_value_error_on_empty_string(greeter):\n",
    "    with pytest.raises(ValueError):\n",
    "        greeter.greet(\"\")"
   ]
  },
  {
   "cell_type": "markdown",
   "metadata": {},
   "source": [
    "Остался последний пункт нашей каты:\n",
    " - Метод `greet` возвращает \"Good evening <имя>\" если текущее время - 18:00-22:00\n",
    "\n",
    "Реализация скорее всего будет вызывать `datetime.now()` где-то внутри. Чтобы обеспечить в тесте нужное нам поведение, используем специальную фикстуру `monkeypatch`. Подробно про неё можно почитать [тут](https://docs.pytest.org/en/latest/monkeypatch.html)."
   ]
  },
  {
   "cell_type": "code",
   "execution_count": null,
   "metadata": {},
   "outputs": [],
   "source": [
    "%%ipytest\n",
    "\n",
    "import datetime\n",
    "\n",
    "@pytest.fixture(scope=\"module\")\n",
    "def greeter():\n",
    "    yield Greeter()\n",
    "\n",
    "def test_greeting_is_good_evening_in_evening(monkeypatch, greeter):\n",
    "    fake_time = datetime.datetime.strptime(\"2007-01-01 19:30:00\", \"%Y-%m-%d %H:%M:%S\")\n",
    "    class mydatetime:\n",
    "        @classmethod\n",
    "        def now(cls):\n",
    "            return fake_time\n",
    "\n",
    "    monkeypatch.setattr(datetime, 'datetime', mydatetime)\n",
    "    assert greeter.greet(\"Mike\").startswith(\"Good evening\")"
   ]
  },
  {
   "cell_type": "code",
   "execution_count": null,
   "metadata": {},
   "outputs": [],
   "source": [
    "import datetime\n",
    "\n",
    "class Greeter:\n",
    "    def greet(self, name):\n",
    "        name = name.strip()\n",
    "        if not name:\n",
    "            raise ValueError(\"Empty name!\")\n",
    "        hour = datetime.datetime.now().hour\n",
    "        if 18 <= hour <= 22:\n",
    "            return \"Good evening \" + name\n",
    "        return \"Hello \" + name"
   ]
  },
  {
   "cell_type": "code",
   "execution_count": 3,
   "metadata": {},
   "outputs": [
    {
     "name": "stderr",
     "output_type": "stream",
     "text": [
      "UsageError: Cell magic `%%ipytest` not found.\n"
     ]
    }
   ],
   "source": [
    "%%ipytest\n",
    "\n",
    "import datetime\n",
    "\n",
    "@pytest.fixture(scope=\"module\")\n",
    "def greeter():\n",
    "    yield Greeter()\n",
    "\n",
    "def test_greeting_is_good_evening_in_evening(monkeypatch, greeter):\n",
    "    fake_time = datetime.datetime.strptime(\"2007-01-01 19:30:00\", \"%Y-%m-%d %H:%M:%S\")\n",
    "    class mydatetime:\n",
    "        @classmethod\n",
    "        def now(cls):\n",
    "            return fake_time\n",
    "\n",
    "    monkeypatch.setattr(datetime, 'datetime', mydatetime)\n",
    "    assert greeter.greet(\"Mike\").startswith(\"Good evening\")"
   ]
  },
  {
   "cell_type": "markdown",
   "metadata": {},
   "source": [
    "Посмотрим, что со старыми тестами:"
   ]
  },
  {
   "cell_type": "code",
   "execution_count": null,
   "metadata": {},
   "outputs": [],
   "source": [
    "%%ipytest\n",
    "\n",
    "@pytest.fixture(scope=\"module\")\n",
    "def greeter():\n",
    "    yield Greeter()\n",
    "\n",
    "@pytest.mark.parametrize(\"name\", [\"Mike\", \"John\", \"Greg\"])\n",
    "def test_greet_returns_name_with_greeting(greeter, name):\n",
    "    assert Greeter().greet(name) == \"Hello \" + name\n",
    "\n",
    "\n",
    "@pytest.mark.parametrize(\"name\", [\"Mike\", \" Mike\", \"Mike \", \" Mike \", \"  Mike\", \"  Mike  \"],\n",
    "                         ids=[\"no spaces\", \"left space\", \"right space\", \n",
    "                              \"two-side space\", \"double space\", \"two-sided double space\"])\n",
    "def test_greet_removes_leading_and_trailing_spaces_from_name(greeter, name):\n",
    "    greeted_name = greeter.greet(name).split(\" \", 1)[1]\n",
    "    assert not greeted_name.startswith(\" \") and not greeted_name.endswith(\" \")"
   ]
  },
  {
   "cell_type": "markdown",
   "metadata": {},
   "source": [
    "Всё падает, потому что cейчас вечер. Выставим для тестов дефолтное время при помощи фикстур:"
   ]
  },
  {
   "cell_type": "code",
   "execution_count": 5,
   "metadata": {},
   "outputs": [
    {
     "name": "stderr",
     "output_type": "stream",
     "text": [
      "UsageError: Cell magic `%%ipytest` not found.\n"
     ]
    }
   ],
   "source": [
    "%%ipytest\n",
    "\n",
    "import datetime\n",
    "\n",
    "\n",
    "@pytest.fixture(scope=\"function\")\n",
    "def set_time(monkeypatch):\n",
    "    def set_time_(time):\n",
    "        class mydatetime:\n",
    "            @classmethod\n",
    "            def now(cls):\n",
    "                return time\n",
    "\n",
    "        monkeypatch.setattr(datetime, 'datetime', mydatetime)\n",
    "    yield set_time_\n",
    "\n",
    "    \n",
    "@pytest.fixture(scope=\"function\")\n",
    "def set_day_time(set_time):\n",
    "    yield set_time(datetime.datetime.strptime(\"2007-01-01 10:30:00\", \"%Y-%m-%d %H:%M:%S\"))\n",
    "    \n",
    "\n",
    "@pytest.mark.parametrize(\"name\", [\"Mike\", \"John\", \"Greg\"])\n",
    "@pytest.mark.usefixtures(\"set_day_time\")\n",
    "def test_greet_returns_name_with_greeting(greeter, name):\n",
    "    assert greeter.greet(name) == \"Hello \" + name\n",
    "\n",
    "\n",
    "@pytest.mark.parametrize(\"name\", [\"Mike\", \" Mike\", \"Mike \", \" Mike \", \"  Mike\", \"  Mike  \"],\n",
    "                         ids=[\"no spaces\", \"left space\", \"right space\", \n",
    "                              \"two-side space\", \"double space\", \"two-sided double space\"])\n",
    "@pytest.mark.usefixtures(\"set_day_time\")\n",
    "def test_greet_removes_leading_and_trailing_spaces_from_name(greeter, name):\n",
    "    greeted_name = greeter.greet(name).split(\" \", 1)[1]\n",
    "    assert not greeted_name.startswith(\" \") and not greeted_name.endswith(\" \")\n",
    "    \n",
    "\n",
    "def test_greeting_is_good_evening_in_evening(set_time, monkeypatch, greeter):\n",
    "    set_time(datetime.datetime.strptime(\"2007-01-01 19:30:00\", \"%Y-%m-%d %H:%M:%S\"))\n",
    "    assert greeter.greet(\"Mike\").startswith(\"Good evening\")"
   ]
  },
  {
   "cell_type": "markdown",
   "metadata": {},
   "source": [
    "#### Сравнение float"
   ]
  },
  {
   "cell_type": "markdown",
   "metadata": {},
   "source": [
    " Сравнение `float` сталось за кадром, разберем его отдельно.\n",
    " Из-за ошибок округления `float` трудно сравнивать через `==`."
   ]
  },
  {
   "cell_type": "code",
   "execution_count": null,
   "metadata": {},
   "outputs": [],
   "source": [
    "%%ipytest\n",
    "def test_float():\n",
    "    assert 0.1 + 0.2 == 0.3"
   ]
  },
  {
   "cell_type": "markdown",
   "metadata": {},
   "source": [
    "Исправить ситуацию поможет `pytest.approx`:"
   ]
  },
  {
   "cell_type": "code",
   "execution_count": null,
   "metadata": {},
   "outputs": [],
   "source": [
    "%%ipytest\n",
    "def test_float():\n",
    "    assert 0.1 + 0.2 == pytest.approx(0.3)"
   ]
  },
  {
   "cell_type": "markdown",
   "metadata": {},
   "source": [
    "`pytest.approx` работает и с коллекциями:"
   ]
  },
  {
   "cell_type": "code",
   "execution_count": null,
   "metadata": {},
   "outputs": [],
   "source": [
    "%%ipytest\n",
    "def test_float():\n",
    "    assert [0.1 + 0.2, 0.5] == pytest.approx([0.3, 0.5])"
   ]
  },
  {
   "cell_type": "markdown",
   "metadata": {},
   "source": [
    "#### Манкипатчинг модуля requests"
   ]
  },
  {
   "cell_type": "code",
   "execution_count": null,
   "metadata": {},
   "outputs": [],
   "source": [
    "import requests\n",
    "\n",
    "\n",
    "def get_json(url):\n",
    "    \"\"\"Takes a URL, and returns the JSON.\"\"\"\n",
    "    r = requests.get(url)\n",
    "    return r.json()"
   ]
  },
  {
   "cell_type": "markdown",
   "metadata": {},
   "source": [
    "Внутри теста очень не хочется ходить по сети, при этом тест написать надо. Воспользуемся `monkeypatch`:"
   ]
  },
  {
   "cell_type": "code",
   "execution_count": null,
   "metadata": {},
   "outputs": [],
   "source": [
    "%%ipytest -s\n",
    "\n",
    "# импортим модуль requests чтобы потом его модифицировать\n",
    "import requests\n",
    "\n",
    "# делаем mock на  response-объект библиотеки requests\n",
    "class MockResponse:\n",
    "    @staticmethod\n",
    "    def json():\n",
    "        return {\"mock_key\": \"mock_response\"}\n",
    "\n",
    "\n",
    "def test_get_json(monkeypatch):\n",
    "\n",
    "    # Делаем фальшивый метод get\n",
    "    def mock_get(*args, **kwargs):\n",
    "        return MockResponse()\n",
    "\n",
    "    # Подменяем настоящий get на фальшивый\n",
    "    monkeypatch.setattr(requests, \"get\", mock_get)\n",
    "\n",
    "    # Тестируем наш метод\n",
    "    result = get_json(\"https://fakeurl\")\n",
    "    assert result[\"mock_key\"] == \"mock_response\""
   ]
  },
  {
   "cell_type": "markdown",
   "metadata": {},
   "source": [
    "Для манкипатчинга модуля requests есть отдельная библиотека — [requests-mock](https://requests-mock.readthedocs.io/en/latest/)."
   ]
  },
  {
   "cell_type": "markdown",
   "metadata": {},
   "source": [
    "## Итого\n",
    "\n",
    "Мы сделали небольшую кату, познакомились с TDD и основной функциональностью `pytest`:\n",
    "\n",
    "* Как pyteset находит тесты\n",
    "* Ассерты pyteset\n",
    "* Параметризация тестов\n",
    "* Фикстуры \n",
    "* Тестирование исключений\n",
    "* Манкипатчинг\n",
    "\n",
    "Какие в итоге профиты у тестов:\n",
    " - Тесты помогают следить за тем, что код соответствует спецификации\n",
    " - Тесты позволяют рефакторить код и не бояться при этом посадить баг\n",
    " - Тесты документируют код\n",
    " \n",
    "Что осталось за кадром:\n",
    " - Виды тестов — юнит, интеграционные и т.д.\n",
    " - Настройка тестов в ci/cd\n",
    " - Плагины pytest"
   ]
  },
  {
   "cell_type": "code",
   "execution_count": null,
   "metadata": {},
   "outputs": [],
   "source": []
  }
 ],
 "metadata": {
  "kernelspec": {
   "display_name": "Python 3 (ipykernel)",
   "language": "python",
   "name": "python3"
  },
  "language_info": {
   "codemirror_mode": {
    "name": "ipython",
    "version": 3
   },
   "file_extension": ".py",
   "mimetype": "text/x-python",
   "name": "python",
   "nbconvert_exporter": "python",
   "pygments_lexer": "ipython3",
   "version": "3.11.5"
  }
 },
 "nbformat": 4,
 "nbformat_minor": 4
}
