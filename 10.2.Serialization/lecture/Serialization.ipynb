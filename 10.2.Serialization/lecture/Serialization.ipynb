{
 "cells": [
  {
   "cell_type": "markdown",
   "metadata": {
    "pycharm": {
     "name": "#%% md\n"
    },
    "slideshow": {
     "slide_type": "slide"
    }
   },
   "source": [
    "<center>\n",
    "    <img src=\"https://upload.wikimedia.org/wikipedia/commons/a/a8/%D0%9B%D0%9E%D0%93%D0%9E_%D0%A8%D0%90%D0%94.png\" width=500px/>\n",
    "    <font>Python 2023</font><br/>\n",
    "    <br/>\n",
    "    <br/>\n",
    "    <b style=\"font-size: 2em\">Сериализация и десериализация</b><br/>\n",
    "    <br/>\n",
    "    <font>Камиль Талипов</font><br/>\n",
    "</center>"
   ]
  },
  {
   "cell_type": "markdown",
   "metadata": {
    "pycharm": {
     "name": "#%% md\n"
    },
    "slideshow": {
     "slide_type": "skip"
    }
   },
   "source": [
    "<div align=\"center\"><b><font size=6>Зачем это все?</font></b></div>"
   ]
  },
  {
   "cell_type": "markdown",
   "metadata": {
    "pycharm": {
     "name": "#%% md\n"
    },
    "slideshow": {
     "slide_type": "slide"
    }
   },
   "source": [
    "<div align=\"center\"><img src=\"https://blogdotxkcddotcom.files.wordpress.com/2019/08/sendafile_1.png?w=1191&h=334\" width=\"400px\"/></div>"
   ]
  },
  {
   "cell_type": "markdown",
   "metadata": {
    "pycharm": {
     "name": "#%% md\n"
    },
    "slideshow": {
     "slide_type": "slide"
    }
   },
   "source": [
    "1. Web API: JSON/RPC/...\n",
    "2. Конфигурация приложения\n",
    "3. Кеширование / Хранение в БД\n",
    "\n",
    "..."
   ]
  },
  {
   "cell_type": "markdown",
   "metadata": {
    "pycharm": {
     "name": "#%% md\n"
    },
    "slideshow": {
     "slide_type": "slide"
    }
   },
   "source": [
    "Форматы:\n",
    "\n",
    "1. Текстовые: JSON, YAML, XML, ...\n",
    "2. Бинарные: Pickle, protobuf, FlatBuffers, ...\n",
    "\n",
    "Еще: <a href=\"https://en.wikipedia.org/wiki/Comparison_of_data-serialization_formats\">Comparison of data-serialization formats</a>"
   ]
  },
  {
   "cell_type": "markdown",
   "metadata": {
    "pycharm": {
     "name": "#%% md\n"
    },
    "slideshow": {
     "slide_type": "slide"
    }
   },
   "source": [
    "<div align=\"center\"><b><font size=6>JSON</font></b></div>\n",
    "<div align=\"center\"><img src=\"https://www.json.org/img/json160.gif\"/></div>"
   ]
  },
  {
   "cell_type": "code",
   "execution_count": null,
   "metadata": {},
   "outputs": [],
   "source": []
  },
  {
   "cell_type": "code",
   "execution_count": null,
   "metadata": {},
   "outputs": [],
   "source": []
  },
  {
   "cell_type": "markdown",
   "metadata": {
    "pycharm": {
     "name": "#%% md\n"
    }
   },
   "source": [
    "```json\n",
    "{\n",
    "    \"orders\": [\n",
    "        {\n",
    "            \"id\": \"2345328\",\n",
    "            \"date\": \"June 20, 2020 10:45:34\",\n",
    "            \"trackId\": \"XGB2567TD\",\n",
    "            \"customer\": {\n",
    "                \"custId\": \"106156\",\n",
    "                \"fname\": \"Max\",\n",
    "                \"lname\": \"Hatfield\",\n",
    "                \"city\": \"NY\"\n",
    "            }\n",
    "        }\n",
    "    ]\n",
    "}\n",
    "```"
   ]
  },
  {
   "cell_type": "markdown",
   "metadata": {
    "pycharm": {
     "name": "#%% md\n"
    },
    "slideshow": {
     "slide_type": "slide"
    }
   },
   "source": [
    "JSON - JavaScript Object Notation\n",
    "\n",
    "Формальное описание: https://www.json.org/json-en.html\n",
    "\n",
    "Еще: <a href=\"https://www.youtube.com/playlist?list=PLEzQf147-uEoNCeDlRrXv6ClsLDN-HtNm\">Videos about JSON</a>"
   ]
  },
  {
   "cell_type": "markdown",
   "metadata": {
    "pycharm": {
     "name": "#%% md\n"
    },
    "slideshow": {
     "slide_type": "slide"
    }
   },
   "source": [
    "Библиотеки для работы с JSON:\n",
    "1. json \n",
    "2. simplejson\n",
    "3. simdjson\n",
    "4. orjson\n",
    "5. ujson"
   ]
  },
  {
   "cell_type": "markdown",
   "metadata": {},
   "source": [
    "##### Offtopic\n",
    "\n",
    "https://lemire.me/blog/2021/06/30/compressing-json-gzip-vs-zstd/"
   ]
  },
  {
   "cell_type": "markdown",
   "metadata": {
    "pycharm": {
     "name": "#%% md\n"
    },
    "slideshow": {
     "slide_type": "slide"
    }
   },
   "source": [
    "В модуле json 4 основных функции: 2 для работы с потоками и 2 для работы со строчками.\n",
    "\n",
    "Поток:\n",
    "1. dump\n",
    "2. load\n",
    "\n",
    "Строчка:\n",
    "1. dumps\n",
    "2. loads"
   ]
  },
  {
   "cell_type": "code",
   "execution_count": 1,
   "metadata": {
    "pycharm": {
     "name": "#%%\n"
    },
    "slideshow": {
     "slide_type": "slide"
    }
   },
   "outputs": [
    {
     "name": "stdout",
     "output_type": "stream",
     "text": [
      "[\"foo\", {\"bar\": [\"baz\", null, 1.0, 2]}]\n",
      "[\"foo\", {\"bar\": [\"baz\", null, 1.0, 2]}]"
     ]
    }
   ],
   "source": [
    "import json\n",
    "\n",
    "data = ['foo', {'bar': ('baz', None, 1.0, 2)}]\n",
    "data_dump = json.dumps(data)\n",
    "print(data_dump)\n",
    "\n",
    "with open('result.json', 'w') as fout:\n",
    "    json.dump(data, fout)\n",
    "!cat result.json"
   ]
  },
  {
   "cell_type": "code",
   "execution_count": 2,
   "metadata": {
    "pycharm": {
     "name": "#%%\n"
    },
    "slideshow": {
     "slide_type": "slide"
    }
   },
   "outputs": [
    {
     "name": "stdout",
     "output_type": "stream",
     "text": [
      "['foo', {'bar': ['baz', None, 1.0, 2]}]\n",
      "['foo', {'bar': ['baz', None, 1.0, 2]}]\n"
     ]
    }
   ],
   "source": [
    "data_parsed = json.loads(data_dump)\n",
    "print(data_parsed)\n",
    "\n",
    "with open('result.json') as fin:\n",
    "    print(json.load(fin))"
   ]
  },
  {
   "cell_type": "code",
   "execution_count": 3,
   "metadata": {
    "pycharm": {
     "name": "#%%\n"
    },
    "slideshow": {
     "slide_type": "slide"
    }
   },
   "outputs": [
    {
     "name": "stdout",
     "output_type": "stream",
     "text": [
      "False\n"
     ]
    }
   ],
   "source": [
    "print(data == data_parsed)"
   ]
  },
  {
   "cell_type": "code",
   "execution_count": 4,
   "metadata": {
    "pycharm": {
     "name": "#%%\n"
    },
    "slideshow": {
     "slide_type": "slide"
    }
   },
   "outputs": [
    {
     "name": "stdout",
     "output_type": "stream",
     "text": [
      "['foo', {'bar': ('baz', None, 1.0, 2)}]\n",
      "['foo', {'bar': ['baz', None, 1.0, 2]}]\n"
     ]
    }
   ],
   "source": [
    "print(data)\n",
    "print(data_parsed)"
   ]
  },
  {
   "cell_type": "markdown",
   "metadata": {
    "pycharm": {
     "name": "#%% md\n"
    },
    "slideshow": {
     "slide_type": "slide"
    }
   },
   "source": [
    "| Python  | JSON  |\n",
    "|:---|:---|\n",
    "| dict  | Object |\n",
    "| list  | Array  |\n",
    "| tuple  | Array  |\n",
    "| str  | String  |\n",
    "| int  | Number (int)  |\n",
    "| float  | Number (real)  |\n",
    "| True  | true  |\n",
    "| False  | false  |\n",
    "| None  | null  |"
   ]
  },
  {
   "cell_type": "markdown",
   "metadata": {
    "pycharm": {
     "name": "#%% md\n"
    },
    "slideshow": {
     "slide_type": "slide"
    }
   },
   "source": [
    "Что насчет Decimal, complex, datetime, ...?"
   ]
  },
  {
   "cell_type": "code",
   "execution_count": 6,
   "metadata": {
    "pycharm": {
     "name": "#%%\n"
    },
    "slideshow": {
     "slide_type": "slide"
    }
   },
   "outputs": [
    {
     "ename": "TypeError",
     "evalue": "Object of type Decimal is not JSON serializable",
     "output_type": "error",
     "traceback": [
      "\u001b[0;31m---------------------------------------------------------------------------\u001b[0m",
      "\u001b[0;31mTypeError\u001b[0m                                 Traceback (most recent call last)",
      "Cell \u001b[0;32mIn[6], line 3\u001b[0m\n\u001b[1;32m      1\u001b[0m \u001b[38;5;28;01mfrom\u001b[39;00m \u001b[38;5;21;01mdecimal\u001b[39;00m \u001b[38;5;28;01mimport\u001b[39;00m Decimal\n\u001b[1;32m      2\u001b[0m num \u001b[38;5;241m=\u001b[39m Decimal(\u001b[38;5;124m'\u001b[39m\u001b[38;5;124m0.1\u001b[39m\u001b[38;5;124m'\u001b[39m)\n\u001b[0;32m----> 3\u001b[0m \u001b[43mjson\u001b[49m\u001b[38;5;241;43m.\u001b[39;49m\u001b[43mdumps\u001b[49m\u001b[43m(\u001b[49m\u001b[43mnum\u001b[49m\u001b[43m)\u001b[49m\n",
      "File \u001b[0;32m~/.pyenv/versions/3.11.5/lib/python3.11/json/__init__.py:231\u001b[0m, in \u001b[0;36mdumps\u001b[0;34m(obj, skipkeys, ensure_ascii, check_circular, allow_nan, cls, indent, separators, default, sort_keys, **kw)\u001b[0m\n\u001b[1;32m    226\u001b[0m \u001b[38;5;66;03m# cached encoder\u001b[39;00m\n\u001b[1;32m    227\u001b[0m \u001b[38;5;28;01mif\u001b[39;00m (\u001b[38;5;129;01mnot\u001b[39;00m skipkeys \u001b[38;5;129;01mand\u001b[39;00m ensure_ascii \u001b[38;5;129;01mand\u001b[39;00m\n\u001b[1;32m    228\u001b[0m     check_circular \u001b[38;5;129;01mand\u001b[39;00m allow_nan \u001b[38;5;129;01mand\u001b[39;00m\n\u001b[1;32m    229\u001b[0m     \u001b[38;5;28mcls\u001b[39m \u001b[38;5;129;01mis\u001b[39;00m \u001b[38;5;28;01mNone\u001b[39;00m \u001b[38;5;129;01mand\u001b[39;00m indent \u001b[38;5;129;01mis\u001b[39;00m \u001b[38;5;28;01mNone\u001b[39;00m \u001b[38;5;129;01mand\u001b[39;00m separators \u001b[38;5;129;01mis\u001b[39;00m \u001b[38;5;28;01mNone\u001b[39;00m \u001b[38;5;129;01mand\u001b[39;00m\n\u001b[1;32m    230\u001b[0m     default \u001b[38;5;129;01mis\u001b[39;00m \u001b[38;5;28;01mNone\u001b[39;00m \u001b[38;5;129;01mand\u001b[39;00m \u001b[38;5;129;01mnot\u001b[39;00m sort_keys \u001b[38;5;129;01mand\u001b[39;00m \u001b[38;5;129;01mnot\u001b[39;00m kw):\n\u001b[0;32m--> 231\u001b[0m     \u001b[38;5;28;01mreturn\u001b[39;00m \u001b[43m_default_encoder\u001b[49m\u001b[38;5;241;43m.\u001b[39;49m\u001b[43mencode\u001b[49m\u001b[43m(\u001b[49m\u001b[43mobj\u001b[49m\u001b[43m)\u001b[49m\n\u001b[1;32m    232\u001b[0m \u001b[38;5;28;01mif\u001b[39;00m \u001b[38;5;28mcls\u001b[39m \u001b[38;5;129;01mis\u001b[39;00m \u001b[38;5;28;01mNone\u001b[39;00m:\n\u001b[1;32m    233\u001b[0m     \u001b[38;5;28mcls\u001b[39m \u001b[38;5;241m=\u001b[39m JSONEncoder\n",
      "File \u001b[0;32m~/.pyenv/versions/3.11.5/lib/python3.11/json/encoder.py:200\u001b[0m, in \u001b[0;36mJSONEncoder.encode\u001b[0;34m(self, o)\u001b[0m\n\u001b[1;32m    196\u001b[0m         \u001b[38;5;28;01mreturn\u001b[39;00m encode_basestring(o)\n\u001b[1;32m    197\u001b[0m \u001b[38;5;66;03m# This doesn't pass the iterator directly to ''.join() because the\u001b[39;00m\n\u001b[1;32m    198\u001b[0m \u001b[38;5;66;03m# exceptions aren't as detailed.  The list call should be roughly\u001b[39;00m\n\u001b[1;32m    199\u001b[0m \u001b[38;5;66;03m# equivalent to the PySequence_Fast that ''.join() would do.\u001b[39;00m\n\u001b[0;32m--> 200\u001b[0m chunks \u001b[38;5;241m=\u001b[39m \u001b[38;5;28;43mself\u001b[39;49m\u001b[38;5;241;43m.\u001b[39;49m\u001b[43miterencode\u001b[49m\u001b[43m(\u001b[49m\u001b[43mo\u001b[49m\u001b[43m,\u001b[49m\u001b[43m \u001b[49m\u001b[43m_one_shot\u001b[49m\u001b[38;5;241;43m=\u001b[39;49m\u001b[38;5;28;43;01mTrue\u001b[39;49;00m\u001b[43m)\u001b[49m\n\u001b[1;32m    201\u001b[0m \u001b[38;5;28;01mif\u001b[39;00m \u001b[38;5;129;01mnot\u001b[39;00m \u001b[38;5;28misinstance\u001b[39m(chunks, (\u001b[38;5;28mlist\u001b[39m, \u001b[38;5;28mtuple\u001b[39m)):\n\u001b[1;32m    202\u001b[0m     chunks \u001b[38;5;241m=\u001b[39m \u001b[38;5;28mlist\u001b[39m(chunks)\n",
      "File \u001b[0;32m~/.pyenv/versions/3.11.5/lib/python3.11/json/encoder.py:258\u001b[0m, in \u001b[0;36mJSONEncoder.iterencode\u001b[0;34m(self, o, _one_shot)\u001b[0m\n\u001b[1;32m    253\u001b[0m \u001b[38;5;28;01melse\u001b[39;00m:\n\u001b[1;32m    254\u001b[0m     _iterencode \u001b[38;5;241m=\u001b[39m _make_iterencode(\n\u001b[1;32m    255\u001b[0m         markers, \u001b[38;5;28mself\u001b[39m\u001b[38;5;241m.\u001b[39mdefault, _encoder, \u001b[38;5;28mself\u001b[39m\u001b[38;5;241m.\u001b[39mindent, floatstr,\n\u001b[1;32m    256\u001b[0m         \u001b[38;5;28mself\u001b[39m\u001b[38;5;241m.\u001b[39mkey_separator, \u001b[38;5;28mself\u001b[39m\u001b[38;5;241m.\u001b[39mitem_separator, \u001b[38;5;28mself\u001b[39m\u001b[38;5;241m.\u001b[39msort_keys,\n\u001b[1;32m    257\u001b[0m         \u001b[38;5;28mself\u001b[39m\u001b[38;5;241m.\u001b[39mskipkeys, _one_shot)\n\u001b[0;32m--> 258\u001b[0m \u001b[38;5;28;01mreturn\u001b[39;00m \u001b[43m_iterencode\u001b[49m\u001b[43m(\u001b[49m\u001b[43mo\u001b[49m\u001b[43m,\u001b[49m\u001b[43m \u001b[49m\u001b[38;5;241;43m0\u001b[39;49m\u001b[43m)\u001b[49m\n",
      "File \u001b[0;32m~/.pyenv/versions/3.11.5/lib/python3.11/json/encoder.py:180\u001b[0m, in \u001b[0;36mJSONEncoder.default\u001b[0;34m(self, o)\u001b[0m\n\u001b[1;32m    161\u001b[0m \u001b[38;5;28;01mdef\u001b[39;00m \u001b[38;5;21mdefault\u001b[39m(\u001b[38;5;28mself\u001b[39m, o):\n\u001b[1;32m    162\u001b[0m \u001b[38;5;250m    \u001b[39m\u001b[38;5;124;03m\"\"\"Implement this method in a subclass such that it returns\u001b[39;00m\n\u001b[1;32m    163\u001b[0m \u001b[38;5;124;03m    a serializable object for ``o``, or calls the base implementation\u001b[39;00m\n\u001b[1;32m    164\u001b[0m \u001b[38;5;124;03m    (to raise a ``TypeError``).\u001b[39;00m\n\u001b[0;32m   (...)\u001b[0m\n\u001b[1;32m    178\u001b[0m \n\u001b[1;32m    179\u001b[0m \u001b[38;5;124;03m    \"\"\"\u001b[39;00m\n\u001b[0;32m--> 180\u001b[0m     \u001b[38;5;28;01mraise\u001b[39;00m \u001b[38;5;167;01mTypeError\u001b[39;00m(\u001b[38;5;124mf\u001b[39m\u001b[38;5;124m'\u001b[39m\u001b[38;5;124mObject of type \u001b[39m\u001b[38;5;132;01m{\u001b[39;00mo\u001b[38;5;241m.\u001b[39m\u001b[38;5;18m__class__\u001b[39m\u001b[38;5;241m.\u001b[39m\u001b[38;5;18m__name__\u001b[39m\u001b[38;5;132;01m}\u001b[39;00m\u001b[38;5;124m \u001b[39m\u001b[38;5;124m'\u001b[39m\n\u001b[1;32m    181\u001b[0m                     \u001b[38;5;124mf\u001b[39m\u001b[38;5;124m'\u001b[39m\u001b[38;5;124mis not JSON serializable\u001b[39m\u001b[38;5;124m'\u001b[39m)\n",
      "\u001b[0;31mTypeError\u001b[0m: Object of type Decimal is not JSON serializable"
     ]
    }
   ],
   "source": [
    "from decimal import Decimal\n",
    "num = Decimal('0.1')\n",
    "json.dumps(num)"
   ]
  },
  {
   "cell_type": "code",
   "execution_count": null,
   "metadata": {
    "pycharm": {
     "name": "#%%\n"
    },
    "slideshow": {
     "slide_type": "slide"
    }
   },
   "outputs": [],
   "source": [
    "def my_encode(obj):\n",
    "    if isinstance(obj, Decimal):\n",
    "        return str(obj)\n",
    "    raise TypeError('Unknown object type {}'.format(type(obj)))\n",
    "    \n",
    "print(json.dumps(num, default=my_encode))\n",
    "print(json.dumps(num, default=str))"
   ]
  },
  {
   "cell_type": "code",
   "execution_count": null,
   "metadata": {
    "pycharm": {
     "name": "#%%\n"
    },
    "slideshow": {
     "slide_type": "slide"
    }
   },
   "outputs": [],
   "source": [
    "class MyEncoder(json.JSONEncoder):\n",
    "    def default(self, obj):\n",
    "        if isinstance(obj, Decimal):\n",
    "            return str(obj)\n",
    "        return json.JSONEncoder.default(self, obj)\n",
    "    \n",
    "    def encode(self, obj):\n",
    "        res = json.JSONEncoder.encode(self, obj)\n",
    "        if isinstance(obj, list):\n",
    "            return 'formatted:{}'.format(res)\n",
    "        return res\n",
    "\n",
    "data = ['hello world', Decimal('1.23'), [1.1234, 2, 3]]\n",
    "\n",
    "print(json.dumps(data, cls=MyEncoder))"
   ]
  },
  {
   "cell_type": "markdown",
   "metadata": {
    "pycharm": {
     "name": "#%% md\n"
    },
    "slideshow": {
     "slide_type": "slide"
    }
   },
   "source": [
    "Как загрузить Decimal, complex, datetime, ...?"
   ]
  },
  {
   "cell_type": "code",
   "execution_count": null,
   "metadata": {
    "pycharm": {
     "name": "#%%\n"
    },
    "slideshow": {
     "slide_type": "slide"
    }
   },
   "outputs": [],
   "source": [
    "class DecimalEncoder(json.JSONEncoder):\n",
    "    def default(self, obj):\n",
    "        if isinstance(obj, Decimal):\n",
    "            return {'__Decimal__': str(obj)}\n",
    "        return json.JSONEncoder.default(self)\n",
    "    \n",
    "def as_Decimal(dct):\n",
    "    val = dct.get('__Decimal__')\n",
    "    if val is not None:\n",
    "        return Decimal(val)\n",
    "    return dct\n",
    "\n",
    "a = [Decimal('0.1'), Decimal('0.001')]\n",
    "a_json = json.dumps(a, cls=DecimalEncoder)\n",
    "print(a)\n",
    "print(a_json)\n",
    "b = json.loads(a_json, object_hook=as_Decimal)\n",
    "print(b)"
   ]
  },
  {
   "cell_type": "code",
   "execution_count": null,
   "metadata": {
    "pycharm": {
     "name": "#%%\n"
    },
    "slideshow": {
     "slide_type": "slide"
    }
   },
   "outputs": [],
   "source": [
    "json_str = '[0.01, 0.001]'\n",
    "a = json.loads(json_str, parse_float=Decimal)\n",
    "print(a)"
   ]
  },
  {
   "cell_type": "markdown",
   "metadata": {
    "pycharm": {
     "name": "#%% md\n"
    },
    "slideshow": {
     "slide_type": "slide"
    }
   },
   "source": [
    "Q: Как сделать удобнее? <br>\n",
    "А: Использовать другие модули для работы с json/дополнительные модули.\n",
    "\n",
    "Полезные модули:\n",
    "* dataclasses-json"
   ]
  },
  {
   "cell_type": "code",
   "execution_count": null,
   "metadata": {
    "pycharm": {
     "name": "#%%\n"
    },
    "slideshow": {
     "slide_type": "slide"
    }
   },
   "outputs": [],
   "source": [
    "import simplejson\n",
    "\n",
    "a = [0.1, Decimal('0.001')]\n",
    "a_json = simplejson.dumps(a)\n",
    "print(a_json)\n",
    "\n",
    "a_parsed = simplejson.loads(a_json)\n",
    "print(a_parsed, type(a_parsed[1]))\n",
    "\n",
    "a_parsed_dec = simplejson.loads(a_json, use_decimal=True)\n",
    "print(a_parsed_dec, type(a_parsed_dec[0]))"
   ]
  },
  {
   "cell_type": "markdown",
   "metadata": {
    "pycharm": {
     "name": "#%% md\n"
    },
    "slideshow": {
     "slide_type": "slide"
    }
   },
   "source": [
    "**Ловушки JSON**"
   ]
  },
  {
   "cell_type": "code",
   "execution_count": null,
   "metadata": {
    "pycharm": {
     "name": "#%%\n"
    },
    "slideshow": {
     "slide_type": "slide"
    }
   },
   "outputs": [],
   "source": [
    "# Keys are always str\n",
    "\n",
    "dct = {\n",
    "    1: 'one',\n",
    "    2: 'two',\n",
    "    3: 'three',\n",
    "}\n",
    "\n",
    "dct_json = json.dumps(dct)\n",
    "print('json_str:', dct_json)\n",
    "print(json.loads(dct_json))"
   ]
  },
  {
   "cell_type": "code",
   "execution_count": null,
   "metadata": {
    "pycharm": {
     "name": "#%%\n"
    },
    "slideshow": {
     "slide_type": "slide"
    }
   },
   "outputs": [],
   "source": [
    "# Multiple dumps \n",
    "\n",
    "val1 = [1, 2, 3]\n",
    "val2 = {'key': 'value'}\n",
    "\n",
    "with open('bad.json', 'w') as fout:\n",
    "    json.dump(val1, fout)\n",
    "    fout.write('\\n')\n",
    "    json.dump(val2, fout)\n",
    "    \n",
    "!cat bad.json"
   ]
  },
  {
   "cell_type": "code",
   "execution_count": null,
   "metadata": {
    "pycharm": {
     "name": "#%%\n"
    },
    "slideshow": {
     "slide_type": "slide"
    }
   },
   "outputs": [],
   "source": [
    "with open('bad.json') as fin:\n",
    "    json.load(fin)"
   ]
  },
  {
   "cell_type": "code",
   "execution_count": null,
   "metadata": {
    "pycharm": {
     "name": "#%%\n"
    },
    "slideshow": {
     "slide_type": "slide"
    }
   },
   "outputs": [],
   "source": [
    "with open('bad.json') as fin:\n",
    "    for line in fin:\n",
    "        print(json.loads(line))"
   ]
  },
  {
   "cell_type": "code",
   "execution_count": null,
   "metadata": {
    "pycharm": {
     "name": "#%%\n"
    },
    "slideshow": {
     "slide_type": "slide"
    }
   },
   "outputs": [],
   "source": [
    "# repr misuse\n",
    "\n",
    "arr = [1, 2, 3]\n",
    "print(repr(arr))\n",
    "print(json.loads(repr(arr)))\n",
    "\n",
    "arr2 = [\"Hello world\", \"!\"]\n",
    "print(repr(arr2))\n",
    "print(json.loads(repr(arr2)))"
   ]
  },
  {
   "cell_type": "markdown",
   "metadata": {},
   "source": [
    "Отсутствие кросс-платформенности:\n",
    "\n",
    "https://github.com/jqlang/jq/issues/1959"
   ]
  },
  {
   "cell_type": "markdown",
   "metadata": {
    "pycharm": {
     "name": "#%% md\n"
    },
    "slideshow": {
     "slide_type": "slide"
    }
   },
   "source": [
    "**Полезные аргументы dump/dumps**\n",
    "\n",
    "`json.dump(obj, fp, *, skipkeys=False, ensure_ascii=True, check_circular=True, allow_nan=True, cls=None, indent=None, separators=None, default=None, sort_keys=False, **kw)`\n",
    "\n",
    "`json.dumps(obj, *, skipkeys=False, ensure_ascii=True, check_circular=True, allow_nan=True, cls=None, indent=None, separators=None, default=None, sort_keys=False, **kw)`"
   ]
  },
  {
   "cell_type": "code",
   "execution_count": null,
   "metadata": {
    "pycharm": {
     "name": "#%%\n"
    },
    "slideshow": {
     "slide_type": "slide"
    }
   },
   "outputs": [],
   "source": [
    "# indent + sort_keys\n",
    "\n",
    "data = [\n",
    "    {\n",
    "        'name': 'Max',\n",
    "        'age': 20,\n",
    "    },\n",
    "    {\n",
    "        'name': 'Alex',\n",
    "        'age': 31,\n",
    "    }\n",
    "]\n",
    "\n",
    "print(json.dumps(data))\n",
    "print(json.dumps(data, indent=2, sort_keys=True))"
   ]
  },
  {
   "cell_type": "code",
   "execution_count": null,
   "metadata": {
    "pycharm": {
     "name": "#%%\n"
    },
    "slideshow": {
     "slide_type": "slide"
    }
   },
   "outputs": [],
   "source": [
    "# ensure_ascii - json.dump only\n",
    "msg = 'Привет мир!'\n",
    "\n",
    "with open('file_ascii.txt', 'w') as fout:\n",
    "    json.dump(msg, fout)\n",
    "!cat file_ascii.txt\n",
    "!echo \"\\n\"\n",
    "\n",
    "with open('file_utf8.txt', 'w', encoding='utf8') as fout:\n",
    "    json.dump(msg, fout, ensure_ascii=False)\n",
    "!cat file_utf8.txt"
   ]
  },
  {
   "cell_type": "code",
   "execution_count": null,
   "metadata": {
    "pycharm": {
     "name": "#%%\n"
    },
    "slideshow": {
     "slide_type": "slide"
    }
   },
   "outputs": [],
   "source": [
    "with open('file_utf8.txt', encoding='utf8') as fin:\n",
    "    print(json.load(fin))"
   ]
  },
  {
   "cell_type": "markdown",
   "metadata": {
    "pycharm": {
     "name": "#%% md\n"
    },
    "slideshow": {
     "slide_type": "slide"
    }
   },
   "source": [
    "Лучше задавать кодировку при `ensure_ascii=False`.\n",
    "\n",
    "Иначе будет использована `locale.getpreferredencoding()`."
   ]
  },
  {
   "cell_type": "code",
   "execution_count": null,
   "metadata": {
    "pycharm": {
     "name": "#%%\n"
    },
    "slideshow": {
     "slide_type": "slide"
    }
   },
   "outputs": [],
   "source": [
    "# allow_nan\n",
    "\n",
    "num = float('inf')\n",
    "print(json.dumps(num))\n",
    "print(json.dumps(num, allow_nan=False))"
   ]
  },
  {
   "cell_type": "markdown",
   "metadata": {
    "pycharm": {
     "name": "#%% md\n"
    },
    "slideshow": {
     "slide_type": "slide"
    }
   },
   "source": [
    "**Полезные аргументы load/loads**\n",
    "\n",
    "`json.load(fp, *, cls=None, object_hook=None, parse_float=None, parse_int=None, parse_constant=None, object_pairs_hook=None, **kw)`\n",
    "\n",
    "`json.loads(s, *, cls=None, object_hook=None, parse_float=None, parse_int=None, parse_constant=None, object_pairs_hook=None, **kw)`"
   ]
  },
  {
   "cell_type": "code",
   "execution_count": null,
   "metadata": {
    "pycharm": {
     "name": "#%%\n"
    },
    "slideshow": {
     "slide_type": "slide"
    }
   },
   "outputs": [],
   "source": [
    "json.loads('{\"foo\": \"bar\"}', object_pairs_hook=print)\n",
    "json.loads('{\"foo\": \"bar\"}', object_hook=print)"
   ]
  },
  {
   "cell_type": "markdown",
   "metadata": {
    "pycharm": {
     "name": "#%% md\n"
    },
    "slideshow": {
     "slide_type": "slide"
    }
   },
   "source": [
    "<div align=\"center\"><b><font size=6>YAML</font></b></div>\n",
    "<div align=\"center\"><img src=\"https://upload.wikimedia.org/wikipedia/commons/9/92/Yaml_logo.png\"/></div>"
   ]
  },
  {
   "cell_type": "markdown",
   "metadata": {
    "pycharm": {
     "name": "#%% md\n"
    },
    "slideshow": {
     "slide_type": "slide"
    }
   },
   "source": [
    "<div align=\"center\"><img src=\"https://miro.medium.com/max/2000/1*2Rly7p5CqW8-sb3CneOOxQ.png\" /></div>"
   ]
  },
  {
   "cell_type": "markdown",
   "metadata": {
    "pycharm": {
     "name": "#%% md\n"
    },
    "slideshow": {
     "slide_type": "slide"
    }
   },
   "source": [
    "YAML - Yet Another Markup Language<br>\n",
    "YAML - YAML Ain't Markup Language\n",
    "\n",
    "Официальный сайт: https://yaml.org <br>\n",
    "Спецификация (ver. 1.1): https://yaml.org/spec/1.1/current.html <br>\n",
    "Спецификация (ver. 1.2): https://yaml.org/spec/1.2.2/\n",
    "\n",
    "Быстрая инструкция: https://learnxinyminutes.com/docs/yaml/\n",
    "\n",
    "Еще: <a href=\"https://stackoverflow.com/questions/1726802/what-is-the-difference-between-yaml-and-json/1729545#1729545\">What is the difference between YAML and JSON?</a>"
   ]
  },
  {
   "cell_type": "markdown",
   "metadata": {
    "pycharm": {
     "name": "#%% md\n"
    },
    "slideshow": {
     "slide_type": "slide"
    }
   },
   "source": [
    "### YAML - надмножество JSON (1.2)\n",
    "<div align=\"center\"><img src=\"https://imgs.xkcd.com/comics/standards.png\" /></div>"
   ]
  },
  {
   "cell_type": "markdown",
   "metadata": {
    "pycharm": {
     "name": "#%% md\n"
    },
    "slideshow": {
     "slide_type": "slide"
    }
   },
   "source": [
    "#### Словарь\n",
    "\n",
    "```yaml\n",
    "one: 1\n",
    "two: 2 # comment\n",
    "0.125: float key\n",
    "1: one\n",
    "2: 'two'\n",
    "\"key with :\": \"value\"\n",
    "flag: false\n",
    "null_value: null\n",
    "```"
   ]
  },
  {
   "cell_type": "markdown",
   "metadata": {
    "pycharm": {
     "name": "#%% md\n"
    },
    "slideshow": {
     "slide_type": "slide"
    }
   },
   "source": [
    "#### Вложенный словарь\n",
    "\n",
    "```yaml\n",
    "nested_map_1:\n",
    "  key: value\n",
    "  nested_map_2:\n",
    "      new_key: new_value\n",
    "```"
   ]
  },
  {
   "cell_type": "markdown",
   "metadata": {
    "pycharm": {
     "name": "#%% md\n"
    },
    "slideshow": {
     "slide_type": "slide"
    }
   },
   "source": [
    "#### Последовательность\n",
    "   \n",
    "```yaml\n",
    "- Item 1\n",
    "- Item 2\n",
    "-\n",
    "  - nested item 1\n",
    "  - nested item 2\n",
    "- - new nested item 1\n",
    "  - new nested item 2\n",
    "- - - yet another item 1\n",
    "    - yet another item 2\n",
    "-\n",
    "  - nested key 1: value\n",
    "  - nested key 2: value2  \n",
    "```"
   ]
  },
  {
   "cell_type": "markdown",
   "metadata": {
    "pycharm": {
     "name": "#%% md\n"
    },
    "slideshow": {
     "slide_type": "slide"
    }
   },
   "source": [
    "#### Последовательность внутри словаря\n",
    "```yaml\n",
    "outer_key:\n",
    "  innter_key:\n",
    "    - item 1\n",
    "    - item 2\n",
    "```"
   ]
  },
  {
   "cell_type": "markdown",
   "metadata": {
    "pycharm": {
     "name": "#%% md\n"
    },
    "slideshow": {
     "slide_type": "slide"
    }
   },
   "source": [
    "#### JSON в YAML\n",
    "```yaml\n",
    "json_map: {\"key\": \"value\"}\n",
    "json_seq: [1, 2, 3, \"hello\"]\n",
    "quotes are optional: {key: [1, 3, 3, hello]}\n",
    "```"
   ]
  },
  {
   "cell_type": "markdown",
   "metadata": {
    "pycharm": {
     "name": "#%% md\n"
    },
    "slideshow": {
     "slide_type": "slide"
    }
   },
   "source": [
    "#### Множества\n",
    "\n",
    "```yaml\n",
    "set1:\n",
    "  ? item1\n",
    "  ? item2\n",
    "  ? item3\n",
    "  \n",
    "set2: {item1, item2, item3}\n",
    "\n",
    "set3:\n",
    "  item1: null\n",
    "  item2: null\n",
    "  item3: null\n",
    "```"
   ]
  },
  {
   "cell_type": "markdown",
   "metadata": {
    "pycharm": {
     "name": "#%% md\n"
    },
    "slideshow": {
     "slide_type": "slide"
    }
   },
   "source": [
    "Примеры yaml из курса:\n",
    "* https://gitlab.manytask.org/python/public-2023-fall/-/blob/main/.gitlab-ci.yml"
   ]
  },
  {
   "cell_type": "markdown",
   "metadata": {
    "pycharm": {
     "name": "#%% md\n"
    },
    "slideshow": {
     "slide_type": "slide"
    }
   },
   "source": [
    "#### Даты\n",
    "```yaml\n",
    "datetime: 2020-08-10T10:30:42.3Z\n",
    "datetime_with_space: 2020-08-10 10:30:42\n",
    "date: 2020-08-10\n",
    "```"
   ]
  },
  {
   "cell_type": "markdown",
   "metadata": {
    "pycharm": {
     "name": "#%% md\n"
    },
    "slideshow": {
     "slide_type": "slide"
    }
   },
   "source": [
    "#### Теги и типы\n",
    "\n",
    "https://yaml.org/refcard.html\n",
    "\n",
    "```yaml\n",
    "explicit_string: !!str 1.23\n",
    "py_complex: !!python/complex 3+2j\n",
    "```"
   ]
  },
  {
   "cell_type": "markdown",
   "metadata": {
    "pycharm": {
     "name": "#%% md\n"
    },
    "slideshow": {
     "slide_type": "slide"
    }
   },
   "source": [
    "#### Бинарные данные (в base64 кодировке)\n",
    "\n",
    "```yaml\n",
    "generic: !binary |\n",
    " R0lGODlhDAAMAIQAAP//9/X17unp5WZmZgAAAOfn515eXvPz7Y6OjuDg4J+fn5\n",
    " OTk6enp56enmlpaWNjY6Ojo4SEhP/++f/++f/++f/++f/++f/++f/++f/++f/+\n",
    " +f/++f/++f/++f/++f/++SH+Dk1hZGUgd2l0aCBHSU1QACwAAAAADAAMAAAFLC\n",
    " AgjoEwnuNAFOhpEMTRiggcz4BNJHrv/zCFcLiwMWYNG84BwwEeECcgggoBADs=\n",
    "```"
   ]
  },
  {
   "cell_type": "markdown",
   "metadata": {
    "pycharm": {
     "name": "#%% md\n"
    },
    "slideshow": {
     "slide_type": "slide"
    }
   },
   "source": [
    "Библиотеки для работы с YAML:\n",
    "1. PyYaml\n",
    "2. ruamel.yaml"
   ]
  },
  {
   "cell_type": "markdown",
   "metadata": {
    "pycharm": {
     "name": "#%% md\n"
    },
    "slideshow": {
     "slide_type": "slide"
    }
   },
   "source": [
    "Основные функции модуля PyYAML:\n",
    "1. `load` / `safe_load` / `unsafe_load` / `full_load`\n",
    "2. `dump` / `safe_dump`\n",
    "3. `load_all` / `safe_load_all` / `unsafe_load_all` / `full_load_all`\n",
    "4. `dump_all` / `safe_dump_all`"
   ]
  },
  {
   "cell_type": "markdown",
   "metadata": {
    "pycharm": {
     "name": "#%% md\n"
    },
    "slideshow": {
     "slide_type": "slide"
    }
   },
   "source": [
    "**Зачем так много?**\n",
    "1. `def load(stream, Loader=None)`\n",
    "2. `def dump(data, stream=None, Dumper=Dumper, **kwds)`\n",
    "\n",
    "Проблемы с Arbitrary Code Execution:\n",
    "1. https://github.com/yaml/pyyaml/pull/386\n",
    "2. https://github.com/yaml/pyyaml/issues/420\n",
    "\n",
    "<p style=\"color:red\">\n",
    "Если вы не доверяете источнику yaml-файла, то используете только safe функции\n",
    "<p style=\"color:red\">"
   ]
  },
  {
   "cell_type": "code",
   "execution_count": null,
   "metadata": {
    "pycharm": {
     "name": "#%%\n"
    },
    "slideshow": {
     "slide_type": "slide"
    }
   },
   "outputs": [],
   "source": [
    "import yaml\n",
    "\n",
    "data = yaml.safe_load('''\n",
    "key 1: \n",
    "  - Item 1\n",
    "  - Item 2\n",
    "key 2:\n",
    "  inner key: 10.5\n",
    "''')\n",
    "print(data)"
   ]
  },
  {
   "cell_type": "code",
   "execution_count": null,
   "metadata": {
    "pycharm": {
     "name": "#%%\n"
    },
    "slideshow": {
     "slide_type": "slide"
    }
   },
   "outputs": [],
   "source": [
    "print(yaml.safe_dump(data))"
   ]
  },
  {
   "cell_type": "code",
   "execution_count": null,
   "metadata": {
    "pycharm": {
     "name": "#%%\n"
    },
    "slideshow": {
     "slide_type": "slide"
    }
   },
   "outputs": [],
   "source": [
    "with open('sample.yaml', 'w') as fout:\n",
    "    yaml.safe_dump(data, fout)\n",
    "    \n",
    "!cat sample.yaml\n",
    "!echo \"\\n\"\n",
    "\n",
    "with open('sample.yaml') as fin:\n",
    "    print(yaml.safe_load(fin) == data)"
   ]
  },
  {
   "cell_type": "code",
   "execution_count": null,
   "metadata": {
    "pycharm": {
     "name": "#%%\n"
    },
    "slideshow": {
     "slide_type": "slide"
    }
   },
   "outputs": [],
   "source": [
    "arr1 = [1, 2, 3]\n",
    "arr2 = [4, 5, 6]\n",
    "\n",
    "with open('multiple.yaml', 'w') as fout:\n",
    "    yaml.safe_dump(arr1, fout)\n",
    "    yaml.safe_dump(arr2, fout)\n",
    "    \n",
    "!cat multiple.yaml\n",
    "!echo \"\\n\"\n",
    "\n",
    "with open('multiple.yaml') as fin:\n",
    "    print(yaml.safe_load(fin))"
   ]
  },
  {
   "cell_type": "code",
   "execution_count": null,
   "metadata": {
    "pycharm": {
     "name": "#%%\n"
    },
    "slideshow": {
     "slide_type": "slide"
    }
   },
   "outputs": [],
   "source": [
    "arr1 = [1, 2, 3]\n",
    "arr2 = [4, 5, 6]\n",
    "\n",
    "with open('multiple_fix.yaml', 'w') as fout:\n",
    "    yaml.safe_dump(arr1, fout, explicit_start=True)\n",
    "    yaml.safe_dump(arr2, fout, explicit_start=True)\n",
    "    \n",
    "!cat multiple_fix.yaml\n",
    "!echo \"\\n\"\n",
    "\n",
    "with open('multiple_fix.yaml') as fin:\n",
    "    for arr in yaml.safe_load_all(fin):\n",
    "        print(arr)"
   ]
  },
  {
   "cell_type": "code",
   "execution_count": null,
   "metadata": {
    "pycharm": {
     "name": "#%%\n"
    },
    "slideshow": {
     "slide_type": "slide"
    }
   },
   "outputs": [],
   "source": [
    "# safe_dump vs safe_dump_all\n",
    "\n",
    "arr = [1, 2, 3, 4]\n",
    "print(yaml.safe_dump(arr, explicit_start=True))\n",
    "print()\n",
    "print(yaml.safe_dump_all(arr, explicit_start=True))"
   ]
  },
  {
   "cell_type": "code",
   "execution_count": null,
   "metadata": {
    "pycharm": {
     "name": "#%%\n"
    },
    "slideshow": {
     "slide_type": "slide"
    }
   },
   "outputs": [],
   "source": [
    "arr = [1, 2, 3, 4]\n",
    "dump_str = yaml.safe_dump_all(arr, explicit_start=True)\n",
    "for item in yaml.safe_load_all(dump_str):\n",
    "    print(item, type(item))\n",
    "    \n",
    "print(yaml.safe_load(dump_str))"
   ]
  },
  {
   "cell_type": "markdown",
   "metadata": {
    "pycharm": {
     "name": "#%% md\n"
    },
    "slideshow": {
     "slide_type": "slide"
    }
   },
   "source": [
    "<div align=\"center\"><b><font size=6>Python Pickle</font></b></div>"
   ]
  },
  {
   "cell_type": "markdown",
   "metadata": {
    "pycharm": {
     "name": "#%% md\n"
    },
    "slideshow": {
     "slide_type": "slide"
    }
   },
   "source": [
    "Модуль для сериализации-десериализации произвольных Python-объектов.\n",
    "\n",
    "Основные особенности:\n",
    "1. Бинарный формат\n",
    "2. Поддерживает большинство Python объектов\n",
    "3. Не безопасен (десериализация может привести к выполнению произвольного кода)"
   ]
  },
  {
   "cell_type": "markdown",
   "metadata": {
    "pycharm": {
     "name": "#%% md\n"
    },
    "slideshow": {
     "slide_type": "slide"
    }
   },
   "source": [
    "Формат pickle - 6 разных протоколов: <br>\n",
    "0 - cтарый \"человеко-читабельный\" формат <br>\n",
    "1 - старый бинарный формат <br>\n",
    "2 - бинарный формат с Python 2.3 (используется по умолчанию с этой версии) <br>\n",
    "3 - бинарный формат с Python 3.0 (используется по умолчанию с этой версии) <br>\n",
    "4 - новый бинарный формат. Добавлен в Python 3.4. Используется по умолчанию с Python 3.8 <br>\n",
    "5 - улучшенный новый бинарный формат. Добавлен в Python 3.8 <br>\n",
    "\n",
    "Можно использовать любой протокол при желании. <br>\n",
    "Однако, чем более высокая версия используется, тем более свежий должен быть Python."
   ]
  },
  {
   "cell_type": "code",
   "execution_count": null,
   "metadata": {
    "pycharm": {
     "name": "#%%\n"
    },
    "slideshow": {
     "slide_type": "slide"
    }
   },
   "outputs": [],
   "source": [
    "import sys\n",
    "import pickle\n",
    "\n",
    "print(sys.version_info)\n",
    "print(pickle.HIGHEST_PROTOCOL)\n",
    "print(pickle.DEFAULT_PROTOCOL)"
   ]
  },
  {
   "cell_type": "markdown",
   "metadata": {
    "pycharm": {
     "name": "#%% md\n"
    },
    "slideshow": {
     "slide_type": "slide"
    }
   },
   "source": [
    "В модуле pickle 4 основных функции: 2 для работы с потоками и 2 для работы со строчками.\n",
    "\n",
    "Поток:\n",
    "1. dump\n",
    "2. load\n",
    "\n",
    "Строчка:\n",
    "1. dumps\n",
    "2. loads"
   ]
  },
  {
   "cell_type": "code",
   "execution_count": null,
   "metadata": {
    "pycharm": {
     "name": "#%%\n"
    },
    "slideshow": {
     "slide_type": "slide"
    }
   },
   "outputs": [],
   "source": [
    "data = {\n",
    "    'one': 1,\n",
    "    'two': 2,\n",
    "    'three': 3,\n",
    "}\n",
    "\n",
    "for protocol_version in range(6):\n",
    "    data_dump = pickle.dumps(data, protocol=protocol_version)\n",
    "    print(protocol_version, ':', data_dump)\n",
    "    print(data == pickle.loads(data_dump))"
   ]
  },
  {
   "cell_type": "code",
   "execution_count": null,
   "metadata": {
    "pycharm": {
     "name": "#%%\n"
    },
    "slideshow": {
     "slide_type": "slide"
    }
   },
   "outputs": [],
   "source": [
    "with open('simple.pkl', 'wb') as fout:\n",
    "    pickle.dump(data, fout)\n",
    "\n",
    "with open('simple.pkl', 'rb') as fin:\n",
    "    print(pickle.load(fin))"
   ]
  },
  {
   "cell_type": "code",
   "execution_count": null,
   "metadata": {
    "pycharm": {
     "name": "#%%\n"
    },
    "slideshow": {
     "slide_type": "slide"
    }
   },
   "outputs": [],
   "source": [
    "# Missing class example \n",
    "\n",
    "from dataclasses import dataclass\n",
    "import pickle\n",
    "from decimal import Decimal\n",
    "\n",
    "@dataclass\n",
    "class Item:\n",
    "    name: str\n",
    "    price: Decimal = '0.0'\n",
    "    quantity: int = 0\n",
    "        \n",
    "    @property\n",
    "    def total_cost(self):\n",
    "        return self.price * self.quantity\n",
    "    \n",
    "\n",
    "item = Item('book', price=Decimal('1.23'), quantity=2)\n",
    "print(item.total_cost)\n",
    "\n",
    "item_pickled = pickle.dumps(item, protocol=0)\n",
    "print(item_pickled)\n",
    "\n",
    "@dataclass\n",
    "class Item:\n",
    "    name: str\n",
    "    price: Decimal = '0.0'\n",
    "\n",
    "print(pickle.loads(item_pickled))"
   ]
  },
  {
   "cell_type": "code",
   "execution_count": null,
   "metadata": {
    "pycharm": {
     "name": "#%%\n"
    },
    "slideshow": {
     "slide_type": "slide"
    }
   },
   "outputs": [],
   "source": [
    "# lambda example\n",
    "\n",
    "my_lambda = lambda x: x ** 2\n",
    "print(my_lambda(2))\n",
    "\n",
    "pickle.dumps(my_lambda)"
   ]
  },
  {
   "cell_type": "code",
   "execution_count": null,
   "metadata": {
    "pycharm": {
     "name": "#%%\n"
    }
   },
   "outputs": [],
   "source": [
    "def func(x):\n",
    "    return x + 2\n",
    "\n",
    "pickle.dumps(func, protocol=0)"
   ]
  },
  {
   "cell_type": "markdown",
   "metadata": {
    "pycharm": {
     "name": "#%% md\n"
    },
    "slideshow": {
     "slide_type": "slide"
    }
   },
   "source": [
    "Pickle сохраняет **только** аттрибуты объекта. <br>\n",
    "Для классов и функций сохраняется **только** идентификаторы, которые потом позволят \"восстановить\" объект."
   ]
  },
  {
   "cell_type": "markdown",
   "metadata": {
    "pycharm": {
     "name": "#%% md\n"
    },
    "slideshow": {
     "slide_type": "slide"
    }
   },
   "source": [
    "**Полезные аргументы** <br>\n",
    "`pickle.dump(obj, file, protocol=None, *, fix_imports=True, buffer_callback=None)` <br>\n",
    "`pickle.load(file, *, fix_imports=True, encoding=\"ASCII\", errors=\"strict\", buffers=None)`"
   ]
  },
  {
   "cell_type": "code",
   "execution_count": null,
   "metadata": {
    "pycharm": {
     "name": "#%%\n"
    },
    "slideshow": {
     "slide_type": "slide"
    }
   },
   "outputs": [],
   "source": [
    "# Custom pickle logic\n",
    "from urllib3 import PoolManager\n",
    "\n",
    "\n",
    "class HTTPAdapter:\n",
    "    __attrs__ = ('pool_connections', 'pool_timeout')\n",
    "    \n",
    "    def __init__(self, pool_connections, pool_timeout):\n",
    "        self.pool_connections = pool_connections\n",
    "        self.pool_timeout = pool_timeout\n",
    "        self.pool_manager = None  # Set in _init_pool_manager\n",
    "        self._init_pool_manager()\n",
    "    \n",
    "    def __getstate__(self):\n",
    "        print('In __getstate__')\n",
    "        return {attr: getattr(self, attr, None) for attr in self.__attrs__}\n",
    "    \n",
    "    def __setstate__(self, state):\n",
    "        print('In __setstate__')\n",
    "        for attr, value in state.items():\n",
    "            setattr(self, attr, value)\n",
    "        self._init_pool_manager()  # Reinit pool after deserialization\n",
    "    \n",
    "    def _init_pool_manager(self):\n",
    "        self.pool_manager = PoolManager(self.pool_connections, timeout=self.pool_timeout)\n",
    "        \n",
    "        \n",
    "adapter = HTTPAdapter(42, 32)\n",
    "adapter_dump = pickle.dumps(adapter, protocol=0)\n",
    "print(adapter_dump)\n",
    "print('======Break======')\n",
    "pickle.loads(adapter_dump)"
   ]
  },
  {
   "cell_type": "markdown",
   "metadata": {},
   "source": [
    "<div align=\"center\"><b><font size=6>Apache Parquet</font></b></div>\n",
    "<div align=\"center\"><img src=\"https://upload.wikimedia.org/wikipedia/commons/4/47/Apache_Parquet_logo.svg\"/></div>"
   ]
  },
  {
   "cell_type": "markdown",
   "metadata": {},
   "source": [
    "* Write once, read many\n",
    "* Disk-efficient, column based format\n",
    "* Like CSV, but more efficient\n",
    "  "
   ]
  },
  {
   "cell_type": "markdown",
   "metadata": {},
   "source": [
    "#### Как записать табличные данные\n",
    "\n",
    "1. Row-based: sequentially store rows (CSV).\n",
    "2. Column-based: sequentially store columns (ORC).\n",
    "3. Hybrid-base: sequentially store chunks of columns (Parquet)."
   ]
  },
  {
   "cell_type": "markdown",
   "metadata": {},
   "source": [
    "<div align=\"center\"><img src=\"https://miro.medium.com/v2/resize:fit:4800/format:webp/1*QEQJjtnDb3JQ2xqhzARZZw.png\"/></div>"
   ]
  },
  {
   "cell_type": "markdown",
   "metadata": {},
   "source": [
    "#### Как устроен файл Parquet\n",
    "\n",
    "https://github.com/apache/parquet-format/blob/master/README.md#glossary\n",
    "\n",
    "https://github.com/apache/parquet-format/blob/master/src/main/thrift/parquet.thrift"
   ]
  },
  {
   "cell_type": "markdown",
   "metadata": {},
   "source": [
    "<div align=\"center\"><img src=\"https://parquet.apache.org/images/FileLayout.gif\"/></div>\n",
    "\n",
    "<div align=\"center\"><img src=\"https://image.slidesharecdn.com/thecolumnarroadmap-180625170240/75/the-columnar-roadmap-apache-parquet-and-apache-arrow-14-2048.jpg?cb=1667639755\"/></div>"
   ]
  },
  {
   "cell_type": "markdown",
   "metadata": {},
   "source": [
    "#### Уровни параллелизации\n",
    "* Processing (MapReduce, Spark, ...) - File/Row Group\n",
    "* IO - Column chunk\n",
    "* Encoding/Compression - Page"
   ]
  },
  {
   "cell_type": "markdown",
   "metadata": {},
   "source": [
    "#### Ускорение фильтрации - cтатистики\n",
    "\n",
    "https://github.com/apache/parquet-format/blob/master/README.md#sort-order\n",
    "\n",
    "https://github.com/apache/parquet-format/blob/master/PageIndex.md"
   ]
  },
  {
   "cell_type": "markdown",
   "metadata": {},
   "source": [
    "<div align=\"center\"><img src=\"https://image.slidesharecdn.com/thecolumnarroadmap-180625170240/75/the-columnar-roadmap-apache-parquet-and-apache-arrow-33-2048.jpg?cb=1667639755\"/></div>\n",
    "\n",
    "<div align=\"center\"><img src=\"https://image.slidesharecdn.com/thecolumnarroadmap-180625170240/75/the-columnar-roadmap-apache-parquet-and-apache-arrow-34-2048.jpg?cb=1667639755\"/></div>"
   ]
  },
  {
   "cell_type": "markdown",
   "metadata": {},
   "source": [
    "#### Code demo\n",
    "\n",
    "https://arrow.apache.org/docs/python/index.html\n",
    "\n",
    "https://arrow.apache.org/docs/python/parquet.html\n",
    "\n",
    "https://github.com/chhantyal/parquet-cli"
   ]
  },
  {
   "cell_type": "code",
   "execution_count": null,
   "metadata": {},
   "outputs": [],
   "source": [
    "import pyarrow as pa\n",
    "import pyarrow.parquet as pq\n",
    "\n",
    "from datetime import datetime"
   ]
  },
  {
   "cell_type": "code",
   "execution_count": null,
   "metadata": {},
   "outputs": [],
   "source": [
    "events_schema = pa.schema([\n",
    "    ('id', pa.int64()),\n",
    "    ('timestamp', pa.timestamp('ns')),\n",
    "    ('event_name', pa.string())\n",
    "])\n",
    "\n",
    "\n",
    "ids = pa.array(\n",
    "    [0, 10, 42],\n",
    "    type=pa.int64()\n",
    ")\n",
    "timestamps = pa.array(\n",
    "    [\n",
    "        datetime(2023, 11, 14, 18, 0, 0),\n",
    "        datetime(2023, 11, 14, 18, 0, 1),\n",
    "        datetime(2023, 11, 14, 18, 0, 2),\n",
    "    ],\n",
    "    type=pa.timestamp('ns')\n",
    ")\n",
    "event_names = pa.array(\n",
    "    ['info_event', 'warn_event', 'error_event'],\n",
    "    type=pa.string()\n",
    ")\n",
    "\n",
    "batch = pa.RecordBatch.from_arrays(\n",
    "    [ids, timestamps, event_names],\n",
    "    schema=events_schema\n",
    ")\n",
    "\n",
    "table1 = pa.Table.from_batches([batch])\n",
    "table2 = pa.Table.from_arrays(\n",
    "    [ids, timestamps, event_names],\n",
    "    schema=events_schema\n",
    ")\n",
    "    "
   ]
  },
  {
   "cell_type": "code",
   "execution_count": null,
   "metadata": {},
   "outputs": [],
   "source": [
    "table1.equals(table2)"
   ]
  },
  {
   "cell_type": "code",
   "execution_count": null,
   "metadata": {},
   "outputs": [],
   "source": [
    "pq.write_table(table1, 'pa_table.parquet', row_group_size=2)"
   ]
  },
  {
   "cell_type": "code",
   "execution_count": null,
   "metadata": {},
   "outputs": [],
   "source": [
    "import pandas as pd\n",
    "\n",
    "df = pd.DataFrame(data={\n",
    "    'id': [0, 10, 42],\n",
    "    'timestamp': [\n",
    "        pd.Timestamp(2023, 11, 14, 18, 0, 0),\n",
    "        pd.Timestamp(2023, 11, 14, 18, 0, 1),\n",
    "        pd.Timestamp(2023, 11, 14, 18, 0, 2),\n",
    "    ],\n",
    "    'event_name': ['info_event', 'warn_event', 'error_event'],\n",
    "})"
   ]
  },
  {
   "cell_type": "code",
   "execution_count": null,
   "metadata": {},
   "outputs": [],
   "source": [
    "df.to_parquet('pd_dataframe.parquet', engine='pyarrow', row_group_size=2)"
   ]
  },
  {
   "cell_type": "code",
   "execution_count": null,
   "metadata": {},
   "outputs": [],
   "source": [
    "table_from_pandas = pq.read_table('pd_dataframe.parquet')\n",
    "df_from_arrow = pd.read_parquet('pa_table.parquet', engine='pyarrow')\n",
    "\n",
    "table_from_pandas.to_pandas().info()\n",
    "print()\n",
    "df_from_arrow.info()"
   ]
  },
  {
   "cell_type": "code",
   "execution_count": null,
   "metadata": {},
   "outputs": [],
   "source": [
    "table_from_pandas.to_pandas()"
   ]
  },
  {
   "cell_type": "code",
   "execution_count": null,
   "metadata": {},
   "outputs": [],
   "source": [
    "df_from_arrow"
   ]
  },
  {
   "cell_type": "code",
   "execution_count": null,
   "metadata": {},
   "outputs": [],
   "source": [
    "df_from_arrow.equals(table_from_pandas.to_pandas())"
   ]
  },
  {
   "cell_type": "markdown",
   "metadata": {},
   "source": [
    "ParquetFile"
   ]
  },
  {
   "cell_type": "code",
   "execution_count": null,
   "metadata": {},
   "outputs": [],
   "source": [
    "parquet_file = pq.ParquetFile('pa_table.parquet')"
   ]
  },
  {
   "cell_type": "code",
   "execution_count": null,
   "metadata": {},
   "outputs": [],
   "source": [
    "parquet_file.metadata"
   ]
  },
  {
   "cell_type": "code",
   "execution_count": null,
   "metadata": {},
   "outputs": [],
   "source": [
    "parquet_file.metadata.row_group(1)"
   ]
  },
  {
   "cell_type": "code",
   "execution_count": null,
   "metadata": {},
   "outputs": [],
   "source": [
    "parquet_file.metadata.row_group(0).column(0)"
   ]
  },
  {
   "cell_type": "code",
   "execution_count": null,
   "metadata": {},
   "outputs": [],
   "source": [
    "parquet_file.metadata.row_group(0).column(0).statistics"
   ]
  },
  {
   "cell_type": "code",
   "execution_count": null,
   "metadata": {},
   "outputs": [],
   "source": [
    "parquet_file.read()"
   ]
  },
  {
   "cell_type": "code",
   "execution_count": null,
   "metadata": {},
   "outputs": [],
   "source": [
    "parquet_file.read_row_group(0)"
   ]
  },
  {
   "cell_type": "markdown",
   "metadata": {},
   "source": [
    "#### Parquet configuration\n",
    "\n",
    "https://parquet.apache.org/docs/file-format/configurations/"
   ]
  },
  {
   "cell_type": "markdown",
   "metadata": {},
   "source": [
    "#### Parquet: what's next\n",
    "1. Video: <a href=\"https://www.youtube.com/watch?v=dPb2ZXnt2_U\">The columnar roadmap: Apache Parquet and Apache Arrow</a>\n",
    "1. In-memory: <a href=\"https://arrow.apache.org\">Apache Arrow</a>\n",
    "1. Datalake: <a href=\"https://iceberg.apache.org\">Apache Iceberg</a>,  <a href=\"https://hudi.apache.org\">Apache Hudi</a>, <a href=\"https://delta.io\">Delta Lake</a>"
   ]
  },
  {
   "cell_type": "markdown",
   "metadata": {},
   "source": [
    "## "
   ]
  },
  {
   "cell_type": "code",
   "execution_count": null,
   "metadata": {},
   "outputs": [],
   "source": []
  }
 ],
 "metadata": {
  "celltoolbar": "Slideshow",
  "kernelspec": {
   "display_name": "Python 3 (ipykernel)",
   "language": "python",
   "name": "python3"
  },
  "language_info": {
   "codemirror_mode": {
    "name": "ipython",
    "version": 3
   },
   "file_extension": ".py",
   "mimetype": "text/x-python",
   "name": "python",
   "nbconvert_exporter": "python",
   "pygments_lexer": "ipython3",
   "version": "3.11.5"
  },
  "rise": {
   "enable_chalkboard": true,
   "footer": "<p style=\"margin: 5px; color: #a0a0a0\">YSDA Python Course</p>",
   "scroll": true,
   "start_slideshow_at": "selected",
   "theme": "serif",
   "transition": "none"
  }
 },
 "nbformat": 4,
 "nbformat_minor": 4
}
